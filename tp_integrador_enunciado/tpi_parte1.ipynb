{
  "cells": [
    {
      "attachments": {},
      "cell_type": "markdown",
      "id": "07289bb0",
      "metadata": {},
      "source": [
        "# Trabajo integrador - Parte 1\n",
        "## Python y Numpy\n",
        "\n",
        "**Nombre**: Andrés Malvestiti"
      ]
    },
    {
      "cell_type": "code",
      "execution_count": 1,
      "id": "aaf94e0a",
      "metadata": {
        "id": "aaf94e0a"
      },
      "outputs": [],
      "source": [
        "import numpy as np"
      ]
    },
    {
      "attachments": {},
      "cell_type": "markdown",
      "id": "0ffe9554",
      "metadata": {},
      "source": [
        "## Ejercicio 1\n",
        "\n",
        "Dada una matriz en formato *numpy array*, donde cada fila de la matriz representa un vector matemático, se requiere computar las normas $l_0$, $l_1$, $l_2$, $l_{\\infty}$, según la siguientes definiciones:\n",
        "\n",
        "\\begin{equation}\n",
        "    ||\\mathbf{x}||^{p} = \\bigg(\\sum_{j=1}^{n}{|x_i|^p}\\bigg)^{\\frac{1}{p}}\n",
        "\\end{equation}\n",
        "\n",
        "con los casos especiales para $p=0$ y $p=\\infty$ siendo:\n",
        "\n",
        "\\begin{equation}\n",
        "    \\begin{array}{rcl}\n",
        "        ||\\mathbf{x}||_0 & = & \\bigg(\\sum_{j=1 \\wedge x_j != 0}{|x_i|}\\bigg)\\\\\n",
        "        ||\\mathbf{x}||_{\\infty} & = & \\max_{i}{|x_i|}\\\\\n",
        "    \\end{array}\n",
        "\\end{equation}"
      ]
    },
    {
      "cell_type": "code",
      "execution_count": 2,
      "id": "0bdb0ee3",
      "metadata": {},
      "outputs": [
        {
          "name": "stdout",
          "output_type": "stream",
          "text": [
            "Norma L0: [3. 5.]\n",
            "Norma L1: [71. 22.]\n",
            "Norma L2: [65.15366452 11.22497216]\n",
            "Norma L-inf: [65.  8.]\n",
            "Norma L0: [3 5]\n",
            "Norma L-inf: [65  8]\n",
            "Norma L1: [71. 22.]\n",
            "Norma L2: [65.15366452 11.22497216]\n"
          ]
        }
      ],
      "source": [
        "example_matrix = np.array([[2,0,4,0,65], [6,3,4,1,8]])\n",
        "# Norma l0\n",
        "# Usando linalg\n",
        "print('Norma L0:', np.linalg.norm(example_matrix, ord=0, axis=1))\n",
        "# Norma l1\n",
        "# Usando linalg\n",
        "print('Norma L1:', np.linalg.norm(example_matrix, ord=1, axis=1))\n",
        "# Norma l2\n",
        "# Usando linalg\n",
        "print('Norma L2:', np.linalg.norm(example_matrix, ord=2, axis=1))\n",
        "# Norma l-inf\n",
        "# Usando linalg\n",
        "print('Norma L-inf:', np.linalg.norm(example_matrix, ord=np.inf, axis=1))\n",
        "\n",
        "# Si hacemos los calculos con una funcion custom para una matriz\n",
        "def norm(X, ord):\n",
        "    \"\"\"\"Consideramos a X como una matrriz de 2x2 donde cada fila es un vector matematico\"\"\"\n",
        "    if (ord == 0):\n",
        "        return np.count_nonzero(X, axis=1)\n",
        "    if (ord == np.inf):\n",
        "        return np.max(X, axis=1)\n",
        "    return (np.sum(np.abs(X) ** ord, axis=1) ** (1/ord))\n",
        "\n",
        "print('Norma L0:', norm(example_matrix, ord=0))\n",
        "print('Norma L-inf:', norm(example_matrix, ord=np.inf))\n",
        "print('Norma L1:', norm(example_matrix, ord=1))\n",
        "print('Norma L2:', norm(example_matrix, ord=2))"
      ]
    },
    {
      "attachments": {},
      "cell_type": "markdown",
      "id": "dd66d862",
      "metadata": {},
      "source": [
        "## Ejercicio 2\n",
        "\n",
        "En clasificación contamos con dos arreglos, la “verdad” y la “predicción”. Cada elemento de los arreglos pueden tomar dos valores, “True” (representado por 1) y “False” (representado por 0). Entonces podemos definir 4 variables:\n",
        "\n",
        "* True Positive (TP): El valor verdadero es 1 y el valor predicho es 1\n",
        "* True Negative (TN): El valor verdadero es 0 y el valor predicho es 0\n",
        "* False Positive (FP): El valor verdadero es 0 y el valor predicho es 1\n",
        "* False Negative (FN): El valor verdadero es 1 y el valor predicho es 0\n",
        "\n",
        "A partir de esto definimos:\n",
        "\n",
        "* Precision = TP / (TP + FP)\n",
        "* Recall = TP / (TP + FN)\n",
        "* Accuracy = (TP + TN) / (TP + TN + FP + FN)\n",
        " \n",
        "Calcular las 3 métricas con Numpy y operaciones vectorizadas."
      ]
    },
    {
      "cell_type": "code",
      "execution_count": 3,
      "id": "794dcd58",
      "metadata": {},
      "outputs": [
        {
          "name": "stdout",
          "output_type": "stream",
          "text": [
            "TP:  3\n",
            "TN:  1\n",
            "FP:  3\n",
            "FN:  3\n",
            "Presicion:  0.5\n",
            "Recall:  0.5\n",
            "Accuracy:  0.4\n"
          ]
        }
      ],
      "source": [
        "truth = np.array([1,1,0,1,1,1,0,0,0,1])\n",
        "prediction = np.array([1,1,1,1,0,0,1,1,0,0])\n",
        "\n",
        "#print('TP', truth & prediction)\n",
        "#print(np.sum(truth & prediction))\n",
        "#print((truth == 1) & (prediction == 1))\n",
        "#print('TP alt', np.sum((truth == 1) & (prediction == 1)))\n",
        "#print('TN', np.sum((truth == 0) & (prediction == 0)))\n",
        "\n",
        "TP = np.sum((truth == 1) & (prediction == 1))\n",
        "TN = np.sum((truth == 0) & (prediction == 0))\n",
        "FP = np.sum((truth == 0) & (prediction == 1))\n",
        "FN = np.sum((truth == 1) & (prediction == 0))\n",
        "\n",
        "precision = TP / (TP + FP)\n",
        "recall = TP / (TP + FN)\n",
        "accuracy = (TP + TN) / (TP + TN + FP + FN)\n",
        "\n",
        "print('TP: ', TP)\n",
        "print('TN: ', TN)\n",
        "print('FP: ', FP)\n",
        "print('FN: ', FN)\n",
        "\n",
        "print('Presicion: ', precision)\n",
        "print('Recall: ', recall)\n",
        "print('Accuracy: ', accuracy)\n"
      ]
    },
    {
      "attachments": {},
      "cell_type": "markdown",
      "id": "d0ac6f6f",
      "metadata": {},
      "source": [
        "## Ejercicio 3\n",
        "\n",
        "Crear una función que separe los datos en train-validation-test. Debe recibir de parametros:\n",
        "\n",
        "- X: Array o Dataframe que contiene los datos de entrada del sistema.\n",
        "- y: Array o Dataframe que contiene la(s) variable(s) target del problema.\n",
        "- train_percentage: _float_ el porcentaje de training.\n",
        "- test_percentage: _float_ el porcentaje de testing.\n",
        "- val_percentage: _float_ el porcentaje de validación.\n",
        "- shuffle: _bool_ determina si el split debe hacerse de manera random o no.\n",
        "\n",
        "Hints: \n",
        "\n",
        "* Usar Indexing y slicing\n",
        "* Usar np.random.[...]"
      ]
    },
    {
      "cell_type": "code",
      "execution_count": 7,
      "id": "ca85fc66",
      "metadata": {},
      "outputs": [],
      "source": [
        "def split(X_input,\n",
        "          Y_input,\n",
        "          train_size=0.7,\n",
        "          val_size=0.15,\n",
        "          test_size=0.15,\n",
        "          random_state=42,\n",
        "          shuffle=True):\n",
        "    \n",
        "      # First we check the train/val/test sizes sum 100%\n",
        "      # and X & Y have the same size\n",
        "      # otherwise we throw an error \n",
        "      assert (train_size + val_size + test_size == 1)\n",
        "      assert X_input.shape[0] == Y_input.shape[0]\n",
        "\n",
        "      n = X_input.shape[0]\n",
        "      # example [0.7, 0.15, 0.15]\n",
        "      dataset_proportions = np.array([train_size, val_size, test_size])\n",
        "      # we take all but the last one to do the cumulative sum\n",
        "      # so the last part of the split takes the remaining elements\n",
        "      # finally, for example if n is 10, then the split indices will be: [7, 8]\n",
        "      split_indices = np.cumsum(dataset_proportions[:-1] * n).astype(int)\n",
        "\n",
        "      if (shuffle):\n",
        "            indices = np.random.choice(n, n, replace=False)\n",
        "            train_indices = indices[0:split_indices[0],]\n",
        "            validation_indices = indices[split_indices[0]:split_indices[1],]\n",
        "            test_indices = indices[split_indices[1]:,]\n",
        "\n",
        "            X_train_split = np.array([X_input[idx] for idx in train_indices])\n",
        "            X_validation_split = np.array([X_input[idx] for idx in validation_indices])\n",
        "            X_test_split = np.array([X_input[idx] for idx in test_indices])\n",
        "\n",
        "            Y_train_split = np.array([Y_input[idx] for idx in train_indices])\n",
        "            Y_validation_split = np.array([Y_input[idx] for idx in validation_indices])\n",
        "            Y_test_split = np.array([Y_input[idx] for idx in test_indices])\n",
        "\n",
        "      else:\n",
        "            X_train_split = X_input[0:split_indices[0],]\n",
        "            X_validation_split = X_input[split_indices[0]:split_indices[1],]\n",
        "            X_test_split = X_input[split_indices[1]:,]\n",
        "\n",
        "            Y_train_split = Y_input[0:split_indices[0],]\n",
        "            Y_validation_split = Y_input[split_indices[0]:split_indices[1],]\n",
        "            Y_test_split = Y_input[split_indices[1]:,]\n",
        "\n",
        "      return [X_train_split, X_validation_split, X_test_split, Y_train_split, Y_validation_split, Y_test_split]\n",
        "\n",
        "\n"
      ]
    }
  ],
  "metadata": {
    "colab": {
      "collapsed_sections": [],
      "name": "Practica_clase_3.ipynb",
      "provenance": []
    },
    "kernelspec": {
      "display_name": "Python 3.10.7 64-bit",
      "language": "python",
      "name": "python3"
    },
    "language_info": {
      "codemirror_mode": {
        "name": "ipython",
        "version": 3
      },
      "file_extension": ".py",
      "mimetype": "text/x-python",
      "name": "python",
      "nbconvert_exporter": "python",
      "pygments_lexer": "ipython3",
      "version": "3.11.5"
    },
    "vscode": {
      "interpreter": {
        "hash": "b5c22da4a52024410f64f9c5a5e2b4ffeeb944a5ed00e8825a42174cdab30315"
      }
    }
  },
  "nbformat": 4,
  "nbformat_minor": 5
}
